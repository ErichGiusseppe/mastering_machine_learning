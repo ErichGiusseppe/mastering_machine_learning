{
 "cells": [
  {
   "cell_type": "markdown",
   "id": "2912528d",
   "metadata": {},
   "source": [
    "# Taller 1\n"
   ]
  },
  {
   "cell_type": "markdown",
   "id": "998249da",
   "metadata": {},
   "source": [
    "## Parte 1\n",
    "\n",
    "#### 1. Modelo de Pytorch "
   ]
  },
  {
   "cell_type": "code",
   "execution_count": null,
   "id": "aa37a151",
   "metadata": {},
   "outputs": [],
   "source": []
  },
  {
   "cell_type": "code",
   "execution_count": 3,
   "id": "e9d5ee6a",
   "metadata": {},
   "outputs": [],
   "source": [
    "#Importamos las librerias necesarias \n",
    "import torch\n",
    "import torch.nn as nn\n",
    "import torch.optim as optim\n",
    "import pandas as pd\n",
    "import matplotlib.pyplot as plt\n",
    "import numpy as np\n",
    "from sklearn.model_selection import train_test_split\n",
    "from sklearn.preprocessing import StandardScaler"
   ]
  },
  {
   "cell_type": "code",
   "execution_count": 5,
   "id": "04f33c4b",
   "metadata": {},
   "outputs": [],
   "source": [
    "# traemos el dataset\n",
    "df = pd.read_csv('auto-mpg.data',\n",
    "                 names=['MPG', 'Cylinders', 'Displacement', 'Horsepower', 'Weight',\n",
    "                'Acceleration', 'Model Year', 'Origin'],\n",
    "                 sep=' ',\n",
    "                 na_values='?',\n",
    "                 comment='\\t',\n",
    "                 skipinitialspace=True\n",
    "                 )\n"
   ]
  },
  {
   "cell_type": "code",
   "execution_count": 6,
   "id": "059f9560",
   "metadata": {},
   "outputs": [
    {
     "data": {
      "text/html": [
       "<div>\n",
       "<style scoped>\n",
       "    .dataframe tbody tr th:only-of-type {\n",
       "        vertical-align: middle;\n",
       "    }\n",
       "\n",
       "    .dataframe tbody tr th {\n",
       "        vertical-align: top;\n",
       "    }\n",
       "\n",
       "    .dataframe thead th {\n",
       "        text-align: right;\n",
       "    }\n",
       "</style>\n",
       "<table border=\"1\" class=\"dataframe\">\n",
       "  <thead>\n",
       "    <tr style=\"text-align: right;\">\n",
       "      <th></th>\n",
       "      <th>MPG</th>\n",
       "      <th>Cylinders</th>\n",
       "      <th>Displacement</th>\n",
       "      <th>Horsepower</th>\n",
       "      <th>Weight</th>\n",
       "      <th>Acceleration</th>\n",
       "      <th>Model Year</th>\n",
       "      <th>Origin</th>\n",
       "    </tr>\n",
       "  </thead>\n",
       "  <tbody>\n",
       "    <tr>\n",
       "      <th>0</th>\n",
       "      <td>18.0</td>\n",
       "      <td>8</td>\n",
       "      <td>307.0</td>\n",
       "      <td>130.0</td>\n",
       "      <td>3504.0</td>\n",
       "      <td>12.0</td>\n",
       "      <td>70</td>\n",
       "      <td>1</td>\n",
       "    </tr>\n",
       "    <tr>\n",
       "      <th>1</th>\n",
       "      <td>15.0</td>\n",
       "      <td>8</td>\n",
       "      <td>350.0</td>\n",
       "      <td>165.0</td>\n",
       "      <td>3693.0</td>\n",
       "      <td>11.5</td>\n",
       "      <td>70</td>\n",
       "      <td>1</td>\n",
       "    </tr>\n",
       "    <tr>\n",
       "      <th>2</th>\n",
       "      <td>18.0</td>\n",
       "      <td>8</td>\n",
       "      <td>318.0</td>\n",
       "      <td>150.0</td>\n",
       "      <td>3436.0</td>\n",
       "      <td>11.0</td>\n",
       "      <td>70</td>\n",
       "      <td>1</td>\n",
       "    </tr>\n",
       "    <tr>\n",
       "      <th>3</th>\n",
       "      <td>16.0</td>\n",
       "      <td>8</td>\n",
       "      <td>304.0</td>\n",
       "      <td>150.0</td>\n",
       "      <td>3433.0</td>\n",
       "      <td>12.0</td>\n",
       "      <td>70</td>\n",
       "      <td>1</td>\n",
       "    </tr>\n",
       "    <tr>\n",
       "      <th>4</th>\n",
       "      <td>17.0</td>\n",
       "      <td>8</td>\n",
       "      <td>302.0</td>\n",
       "      <td>140.0</td>\n",
       "      <td>3449.0</td>\n",
       "      <td>10.5</td>\n",
       "      <td>70</td>\n",
       "      <td>1</td>\n",
       "    </tr>\n",
       "    <tr>\n",
       "      <th>...</th>\n",
       "      <td>...</td>\n",
       "      <td>...</td>\n",
       "      <td>...</td>\n",
       "      <td>...</td>\n",
       "      <td>...</td>\n",
       "      <td>...</td>\n",
       "      <td>...</td>\n",
       "      <td>...</td>\n",
       "    </tr>\n",
       "    <tr>\n",
       "      <th>387</th>\n",
       "      <td>27.0</td>\n",
       "      <td>4</td>\n",
       "      <td>140.0</td>\n",
       "      <td>86.0</td>\n",
       "      <td>2790.0</td>\n",
       "      <td>15.6</td>\n",
       "      <td>82</td>\n",
       "      <td>1</td>\n",
       "    </tr>\n",
       "    <tr>\n",
       "      <th>388</th>\n",
       "      <td>44.0</td>\n",
       "      <td>4</td>\n",
       "      <td>97.0</td>\n",
       "      <td>52.0</td>\n",
       "      <td>2130.0</td>\n",
       "      <td>24.6</td>\n",
       "      <td>82</td>\n",
       "      <td>2</td>\n",
       "    </tr>\n",
       "    <tr>\n",
       "      <th>389</th>\n",
       "      <td>32.0</td>\n",
       "      <td>4</td>\n",
       "      <td>135.0</td>\n",
       "      <td>84.0</td>\n",
       "      <td>2295.0</td>\n",
       "      <td>11.6</td>\n",
       "      <td>82</td>\n",
       "      <td>1</td>\n",
       "    </tr>\n",
       "    <tr>\n",
       "      <th>390</th>\n",
       "      <td>28.0</td>\n",
       "      <td>4</td>\n",
       "      <td>120.0</td>\n",
       "      <td>79.0</td>\n",
       "      <td>2625.0</td>\n",
       "      <td>18.6</td>\n",
       "      <td>82</td>\n",
       "      <td>1</td>\n",
       "    </tr>\n",
       "    <tr>\n",
       "      <th>391</th>\n",
       "      <td>31.0</td>\n",
       "      <td>4</td>\n",
       "      <td>119.0</td>\n",
       "      <td>82.0</td>\n",
       "      <td>2720.0</td>\n",
       "      <td>19.4</td>\n",
       "      <td>82</td>\n",
       "      <td>1</td>\n",
       "    </tr>\n",
       "  </tbody>\n",
       "</table>\n",
       "<p>392 rows × 8 columns</p>\n",
       "</div>"
      ],
      "text/plain": [
       "      MPG  Cylinders  Displacement  Horsepower  Weight  Acceleration  \\\n",
       "0    18.0          8         307.0       130.0  3504.0          12.0   \n",
       "1    15.0          8         350.0       165.0  3693.0          11.5   \n",
       "2    18.0          8         318.0       150.0  3436.0          11.0   \n",
       "3    16.0          8         304.0       150.0  3433.0          12.0   \n",
       "4    17.0          8         302.0       140.0  3449.0          10.5   \n",
       "..    ...        ...           ...         ...     ...           ...   \n",
       "387  27.0          4         140.0        86.0  2790.0          15.6   \n",
       "388  44.0          4          97.0        52.0  2130.0          24.6   \n",
       "389  32.0          4         135.0        84.0  2295.0          11.6   \n",
       "390  28.0          4         120.0        79.0  2625.0          18.6   \n",
       "391  31.0          4         119.0        82.0  2720.0          19.4   \n",
       "\n",
       "     Model Year  Origin  \n",
       "0            70       1  \n",
       "1            70       1  \n",
       "2            70       1  \n",
       "3            70       1  \n",
       "4            70       1  \n",
       "..          ...     ...  \n",
       "387          82       1  \n",
       "388          82       2  \n",
       "389          82       1  \n",
       "390          82       1  \n",
       "391          82       1  \n",
       "\n",
       "[392 rows x 8 columns]"
      ]
     },
     "execution_count": 6,
     "metadata": {},
     "output_type": "execute_result"
    }
   ],
   "source": [
    "#limpiamos los datos \n",
    "df.isna().sum()\n",
    "df.dropna(inplace=True)\n",
    "df=df.reset_index(drop=True)\n",
    "df"
   ]
  },
  {
   "cell_type": "code",
   "execution_count": 10,
   "id": "ec7a1604",
   "metadata": {},
   "outputs": [],
   "source": [
    "# Variable de entrada (X) y salida (y)\n",
    "X = df[['Horsepower']].values.astype(np.float32)\n",
    "y = df[['MPG']].values.astype(np.float32)\n",
    "\n",
    "# Normalizar (facilita el entrenamiento) \n",
    "scaler_X = StandardScaler()\n",
    "scaler_y = StandardScaler()\n",
    "\n",
    "X_norm = scaler_X.fit_transform(X)\n",
    "y_norm = scaler_y.fit_transform(y)\n"
   ]
  },
  {
   "cell_type": "code",
   "execution_count": 11,
   "id": "9caff382",
   "metadata": {},
   "outputs": [],
   "source": [
    "#se divide en el enteenamiento y prueba\n",
    "\n",
    "X_train, X_test, y_train, y_test = train_test_split(X_norm, y_norm, test_size=0.2, random_state=42)\n",
    "\n",
    "# Convertir a tensores\n",
    "X_train_tensor = torch.from_numpy(X_train)\n",
    "y_train_tensor = torch.from_numpy(y_train)\n",
    "X_test_tensor = torch.from_numpy(X_test)\n",
    "y_test_tensor = torch.from_numpy(y_test)\n"
   ]
  },
  {
   "cell_type": "code",
   "execution_count": 12,
   "id": "7c4f6543",
   "metadata": {},
   "outputs": [],
   "source": [
    "#Se defien el modelo lineal \n",
    "\n",
    "class LinearRegressionModel(nn.Module):\n",
    "    def __init__(self):\n",
    "        super(LinearRegressionModel, self).__init__()\n",
    "        self.linear = nn.Linear(1, 1)  # 1 entrada, 1 salida\n",
    "\n",
    "    def forward(self, x):\n",
    "        return self.linear(x)\n",
    "\n",
    "model = LinearRegressionModel()\n"
   ]
  },
  {
   "cell_type": "code",
   "execution_count": 13,
   "id": "c77f7d81",
   "metadata": {},
   "outputs": [],
   "source": [
    "# Funcion de perdida\n",
    "\n",
    "\n",
    "criterion = nn.MSELoss()\n",
    "\n",
    "#Optimizador \n",
    "\n",
    "optimizer = optim.SGD(model.parameters(), lr=0.01)\n"
   ]
  },
  {
   "cell_type": "code",
   "execution_count": 14,
   "id": "5fc8f161",
   "metadata": {},
   "outputs": [
    {
     "name": "stdout",
     "output_type": "stream",
     "text": [
      "Epoch [10/100], Loss: 1.0403\n",
      "Epoch [20/100], Loss: 0.8284\n",
      "Epoch [30/100], Loss: 0.6869\n",
      "Epoch [40/100], Loss: 0.5925\n",
      "Epoch [50/100], Loss: 0.5294\n",
      "Epoch [60/100], Loss: 0.4873\n",
      "Epoch [70/100], Loss: 0.4592\n",
      "Epoch [80/100], Loss: 0.4405\n",
      "Epoch [90/100], Loss: 0.4280\n",
      "Epoch [100/100], Loss: 0.4196\n"
     ]
    }
   ],
   "source": [
    "#Entrenamiento\n",
    "epochs = 100\n",
    "loss_history = []\n",
    "\n",
    "for epoch in range(epochs):\n",
    "    model.train()\n",
    "    optimizer.zero_grad()\n",
    "\n",
    "    outputs = model(X_train_tensor)\n",
    "    loss = criterion(outputs, y_train_tensor)\n",
    "    loss.backward()\n",
    "    optimizer.step()\n",
    "\n",
    "    loss_history.append(loss.item())\n",
    "\n",
    "    if (epoch+1) % 10 == 0:\n",
    "        print(f'Epoch [{epoch+1}/{epochs}], Loss: {loss.item():.4f}')\n"
   ]
  },
  {
   "cell_type": "code",
   "execution_count": 15,
   "id": "2ed71002",
   "metadata": {},
   "outputs": [
    {
     "data": {
      "image/png": "[encoded data removed]",
      "text/plain": [
       "<Figure size 432x288 with 1 Axes>"
      ]
     },
     "metadata": {
      "needs_background": "light"
     },
     "output_type": "display_data"
    }
   ],
   "source": [
    "plt.plot(loss_history)\n",
    "plt.xlabel('Epoch')\n",
    "plt.ylabel('MSE Loss')\n",
    "plt.title('Historial de pérdida')\n",
    "plt.show()\n"
   ]
  },
  {
   "cell_type": "code",
   "execution_count": 16,
   "id": "f91e649c",
   "metadata": {},
   "outputs": [
    {
     "data": {
      "image/png": "[encoded data removed]",
      "text/plain": [
       "<Figure size 432x288 with 1 Axes>"
      ]
     },
     "metadata": {
      "needs_background": "light"
     },
     "output_type": "display_data"
    }
   ],
   "source": [
    "\n",
    "#comparamos proyectado vs real\n",
    "\n",
    "\n",
    "model.eval()\n",
    "with torch.no_grad():\n",
    "    y_pred = model(X_test_tensor).numpy()\n",
    "\n",
    "# Volver a escala original\n",
    "X_test_orig = scaler_X.inverse_transform(X_test)\n",
    "y_test_orig = scaler_y.inverse_transform(y_test)\n",
    "y_pred_orig = scaler_y.inverse_transform(y_pred)\n",
    "\n",
    "plt.scatter(X_test_orig, y_test_orig, label='Datos reales', alpha=0.6)\n",
    "plt.plot(X_test_orig, y_pred_orig, color='red', label='Línea del modelo')\n",
    "plt.xlabel('Horsepower')\n",
    "plt.ylabel('MPG')\n",
    "plt.title('Predicción lineal de MPG usando Horsepower')\n",
    "plt.legend()\n",
    "plt.show()\n"
   ]
  },
  {
   "cell_type": "markdown",
   "id": "44d5d4ac",
   "metadata": {},
   "source": [
    "###  2. Evaluar el modelo base\n"
   ]
  },
  {
   "cell_type": "code",
   "execution_count": 17,
   "id": "efe1747e",
   "metadata": {},
   "outputs": [
    {
     "name": "stdout",
     "output_type": "stream",
     "text": [
      "MSE (modelo base): 0.3906\n",
      "MAE (modelo base): 0.5235\n"
     ]
    }
   ],
   "source": [
    "# Se utiliza MSE y MAE \n",
    "\n",
    "from sklearn.metrics import mean_squared_error, mean_absolute_error\n",
    "\n",
    "# Predicciones\n",
    "model.eval()\n",
    "with torch.no_grad():\n",
    "    y_pred_test = model(X_test_tensor).numpy()\n",
    "    y_test_true = y_test_tensor.numpy()\n",
    "\n",
    "# Métricas en escala normalizada\n",
    "mse = mean_squared_error(y_test_true, y_pred_test)\n",
    "mae = mean_absolute_error(y_test_true, y_pred_test)\n",
    "\n",
    "print(f'MSE (modelo base): {mse:.4f}')\n",
    "print(f'MAE (modelo base): {mae:.4f}')\n"
   ]
  },
  {
   "cell_type": "code",
   "execution_count": 18,
   "id": "fd10434e",
   "metadata": {},
   "outputs": [
    {
     "data": {
      "image/png": "[encoded data removed]",
      "text/plain": [
       "<Figure size 432x288 with 1 Axes>"
      ]
     },
     "metadata": {
      "needs_background": "light"
     },
     "output_type": "display_data"
    }
   ],
   "source": [
    "X_test_orig = scaler_X.inverse_transform(X_test)\n",
    "y_test_orig = scaler_y.inverse_transform(y_test)\n",
    "y_pred_orig = scaler_y.inverse_transform(y_pred_test)\n",
    "\n",
    "plt.scatter(X_test_orig, y_test_orig, label='Datos reales', alpha=0.6)\n",
    "plt.plot(X_test_orig, y_pred_orig, color='red', label='Predicción lineal')\n",
    "plt.xlabel('Horsepower')\n",
    "plt.ylabel('MPG')\n",
    "plt.title('Modelo base: regresión lineal')\n",
    "plt.legend()\n",
    "plt.show()\n"
   ]
  },
  {
   "cell_type": "markdown",
   "id": "64609840",
   "metadata": {},
   "source": [
    "El modelo lineal base, que utiliza únicamente la variable Horsepower como predictor del consumo de gasolina (MPG), obtuvo un error cuadrático medio (MSE) de 0.3906 y un error absoluto medio (MAE) de 0.5235 en los datos de prueba (normalizados).\n",
    "\n",
    "Estos valores indican que el modelo logra capturar parte de la relación entre las variables, pero su capacidad predictiva es limitada. Visualmente, se observa que el modelo aprende una relación lineal decreciente entre Horsepower y MPG, lo cual es coherente con la intuición (mayor potencia suele implicar mayor consumo)."
   ]
  },
  {
   "cell_type": "markdown",
   "id": "1e102aa7",
   "metadata": {},
   "source": [
    "### 3. Función de activación no lineal"
   ]
  },
  {
   "cell_type": "code",
   "execution_count": 20,
   "id": "b007c50a",
   "metadata": {},
   "outputs": [],
   "source": [
    "# creamos el nuevo modelo\n",
    "class NonLinearModel(nn.Module):\n",
    "    def __init__(self):\n",
    "        super(NonLinearModel, self).__init__()\n",
    "        self.fc1 = nn.Linear(1, 10)   # capa oculta\n",
    "        self.act = nn.ReLU()\n",
    "        self.fc2 = nn.Linear(10, 1)   # salida\n",
    "\n",
    "    def forward(self, x):\n",
    "        x = self.fc1(x)\n",
    "        x = self.act(x)\n",
    "        x = self.fc2(x)\n",
    "        return x\n",
    "\n",
    "nonlinear_model = NonLinearModel()\n",
    "\n"
   ]
  },
  {
   "cell_type": "code",
   "execution_count": 21,
   "id": "0e91f882",
   "metadata": {},
   "outputs": [
    {
     "name": "stdout",
     "output_type": "stream",
     "text": [
      "[ReLU] Epoch 10, Loss: 0.6742\n",
      "[ReLU] Epoch 20, Loss: 0.6105\n",
      "[ReLU] Epoch 30, Loss: 0.5657\n",
      "[ReLU] Epoch 40, Loss: 0.5334\n",
      "[ReLU] Epoch 50, Loss: 0.5096\n",
      "[ReLU] Epoch 60, Loss: 0.4913\n",
      "[ReLU] Epoch 70, Loss: 0.4767\n",
      "[ReLU] Epoch 80, Loss: 0.4646\n",
      "[ReLU] Epoch 90, Loss: 0.4542\n",
      "[ReLU] Epoch 100, Loss: 0.4449\n"
     ]
    }
   ],
   "source": [
    "# entrenamiento modelo no lineal \n",
    "criterion = nn.MSELoss()\n",
    "optimizer = optim.SGD(nonlinear_model.parameters(), lr=0.01)\n",
    "\n",
    "loss_history_nl = []\n",
    "epochs = 100\n",
    "\n",
    "for epoch in range(epochs):\n",
    "    nonlinear_model.train()\n",
    "    optimizer.zero_grad()\n",
    "\n",
    "    outputs = nonlinear_model(X_train_tensor)\n",
    "    loss = criterion(outputs, y_train_tensor)\n",
    "    loss.backward()\n",
    "    optimizer.step()\n",
    "\n",
    "    loss_history_nl.append(loss.item())\n",
    "\n",
    "    if (epoch+1) % 10 == 0:\n",
    "        print(f'[ReLU] Epoch {epoch+1}, Loss: {loss.item():.4f}')\n"
   ]
  },
  {
   "cell_type": "code",
   "execution_count": 22,
   "id": "a7dbed2b",
   "metadata": {},
   "outputs": [
    {
     "name": "stdout",
     "output_type": "stream",
     "text": [
      "MSE (modelo ReLU): 0.3934\n",
      "MAE (modelo ReLU): 0.5142\n"
     ]
    },
    {
     "data": {
      "image/png": "[encoded data removed]",
      "text/plain": [
       "<Figure size 432x288 with 1 Axes>"
      ]
     },
     "metadata": {
      "needs_background": "light"
     },
     "output_type": "display_data"
    }
   ],
   "source": [
    "with torch.no_grad():\n",
    "    y_pred_nl = nonlinear_model(X_test_tensor).numpy()\n",
    "\n",
    "mse_nl = mean_squared_error(y_test_true, y_pred_nl)\n",
    "mae_nl = mean_absolute_error(y_test_true, y_pred_nl)\n",
    "\n",
    "print(f'MSE (modelo ReLU): {mse_nl:.4f}')\n",
    "print(f'MAE (modelo ReLU): {mae_nl:.4f}')\n",
    "\n",
    "# Se grafica\n",
    "y_pred_nl_orig = scaler_y.inverse_transform(y_pred_nl)\n",
    "\n",
    "plt.scatter(X_test_orig, y_test_orig, label='Datos reales', alpha=0.6)\n",
    "plt.scatter(X_test_orig, y_pred_nl_orig, color='green', label='Predicción ReLU', alpha=0.6)\n",
    "plt.xlabel('Horsepower')\n",
    "plt.ylabel('MPG')\n",
    "plt.title('Modelo con activación ReLU')\n",
    "plt.legend()\n",
    "plt.show()\n"
   ]
  },
  {
   "cell_type": "markdown",
   "id": "fba5988f",
   "metadata": {},
   "source": [
    "Cambiando a la función de activación no lineal (ReLU) en una capa oculta del modelo, se esperaria una mejora en la capacidad del modelo para capturar relaciones no lineales entre Horsepower y MPG. Sin embargo, los resultados muestran un MSE de 0.3934 y un MAE de 0.5142, que son muy similares a los obtenidos con el modelo lineal base.\n",
    "\n",
    "Aunque el MAE se redujo un poco, el MSE aumentó también, lo cual sugiere que el modelo no lineal no logró una mejora significativa en el ajuste global. Esto puede deberse a que la arquitectura con solo una capa oculta y 10 neuronas no fue suficiente para capturar patrones más complejos o que la relación entre las variables sigue siendo predominantemente lineal"
   ]
  },
  {
   "cell_type": "markdown",
   "id": "a79b966f",
   "metadata": {},
   "source": [
    "### 4. Modelo con dos capas ocultas"
   ]
  },
  {
   "cell_type": "code",
   "execution_count": 23,
   "id": "0b1cb4f3",
   "metadata": {},
   "outputs": [],
   "source": [
    "class DeepModel(nn.Module):\n",
    "    def __init__(self):\n",
    "        super(DeepModel, self).__init__()\n",
    "        self.net = nn.Sequential(\n",
    "            nn.Linear(1, 20),\n",
    "            nn.ReLU(),\n",
    "            nn.Linear(20, 10),\n",
    "            nn.ReLU(),\n",
    "            nn.Linear(10, 1)\n",
    "        )\n",
    "\n",
    "    def forward(self, x):\n",
    "        return self.net(x)\n",
    "\n",
    "deep_model = DeepModel()\n"
   ]
  },
  {
   "cell_type": "code",
   "execution_count": 24,
   "id": "e243bf86",
   "metadata": {},
   "outputs": [
    {
     "name": "stdout",
     "output_type": "stream",
     "text": [
      "[Deep] Epoch 10, Loss: 0.7316\n",
      "[Deep] Epoch 20, Loss: 0.6500\n",
      "[Deep] Epoch 30, Loss: 0.5866\n",
      "[Deep] Epoch 40, Loss: 0.5340\n",
      "[Deep] Epoch 50, Loss: 0.4894\n",
      "[Deep] Epoch 60, Loss: 0.4526\n",
      "[Deep] Epoch 70, Loss: 0.4234\n",
      "[Deep] Epoch 80, Loss: 0.4012\n",
      "[Deep] Epoch 90, Loss: 0.3853\n",
      "[Deep] Epoch 100, Loss: 0.3742\n"
     ]
    }
   ],
   "source": [
    "# entrenamiento del modelo\n",
    "\n",
    "criterion = nn.MSELoss()\n",
    "optimizer = optim.SGD(deep_model.parameters(), lr=0.01)\n",
    "\n",
    "loss_history_deep = []\n",
    "\n",
    "for epoch in range(epochs):\n",
    "    deep_model.train()\n",
    "    optimizer.zero_grad()\n",
    "\n",
    "    outputs = deep_model(X_train_tensor)\n",
    "    loss = criterion(outputs, y_train_tensor)\n",
    "    loss.backward()\n",
    "    optimizer.step()\n",
    "\n",
    "    loss_history_deep.append(loss.item())\n",
    "\n",
    "    if (epoch+1) % 10 == 0:\n",
    "        print(f'[Deep] Epoch {epoch+1}, Loss: {loss.item():.4f}')\n"
   ]
  },
  {
   "cell_type": "code",
   "execution_count": 25,
   "id": "466fa395",
   "metadata": {},
   "outputs": [
    {
     "name": "stdout",
     "output_type": "stream",
     "text": [
      "MSE (modelo profundo): 0.3287\n",
      "MAE (modelo profundo): 0.4521\n"
     ]
    },
    {
     "data": {
      "image/png": "[encoded data removed]",
      "text/plain": [
       "<Figure size 432x288 with 1 Axes>"
      ]
     },
     "metadata": {
      "needs_background": "light"
     },
     "output_type": "display_data"
    }
   ],
   "source": [
    "# Se evalua \n",
    "\n",
    "with torch.no_grad():\n",
    "    y_pred_deep = deep_model(X_test_tensor).numpy()\n",
    "\n",
    "mse_deep = mean_squared_error(y_test_true, y_pred_deep)\n",
    "mae_deep = mean_absolute_error(y_test_true, y_pred_deep)\n",
    "\n",
    "print(f'MSE (modelo profundo): {mse_deep:.4f}')\n",
    "print(f'MAE (modelo profundo): {mae_deep:.4f}')\n",
    "\n",
    "# a nivel visual\n",
    "y_pred_deep_orig = scaler_y.inverse_transform(y_pred_deep)\n",
    "\n",
    "plt.scatter(X_test_orig, y_test_orig, label='Datos reales', alpha=0.6)\n",
    "plt.scatter(X_test_orig, y_pred_deep_orig, color='orange', label='Predicción Deep', alpha=0.6)\n",
    "plt.xlabel('Horsepower')\n",
    "plt.ylabel('MPG')\n",
    "plt.title('Modelo profundo con 2 capas ocultas')\n",
    "plt.legend()\n",
    "plt.show()\n"
   ]
  },
  {
   "cell_type": "code",
   "execution_count": null,
   "id": "579d8518",
   "metadata": {},
   "outputs": [],
   "source": []
  },
  {
   "cell_type": "markdown",
   "id": "f5c5a285",
   "metadata": {},
   "source": [
    "El modelo que es más profundo, el cual incluye dos capas ocultas con funciones de activación ReLU, presenta una mejora significativa en respecto a los modelos anteriores. Se obtuvo un MSE de 0.3287 y un MAE de 0.4521, lo cual representa una reducción significativa en ambos errores frente al modelo lineal base (MSE: 0.3906, MAE: 0.5235).\n",
    "\n",
    "Esto indica que el modelo profundo fue capaz de capturar mejor las complejidades y posibles no linealidades en la relación entre Horsepower y MPG. Además, comparando las tres graficas es posible evidenciar que este modelo se ajusta más a los datos reales, sin limitarse a una función lineal simple."
   ]
  },
  {
   "cell_type": "markdown",
   "id": "80b30357",
   "metadata": {},
   "source": [
    "## Parte 2: Clasificación con redes neuronales\n",
    "### 1. Clasificación en pytorch"
   ]
  },
  {
   "cell_type": "code",
   "execution_count": null,
   "id": "dc767d9e",
   "metadata": {},
   "outputs": [],
   "source": []
  },
  {
   "cell_type": "code",
   "execution_count": null,
   "id": "3477f39e",
   "metadata": {},
   "outputs": [],
   "source": []
  },
  {
   "cell_type": "code",
   "execution_count": 37,
   "id": "75d3a9a3",
   "metadata": {},
   "outputs": [
    {
     "name": "stdout",
     "output_type": "stream",
     "text": [
      "X_train shape: torch.Size([242, 16])\n",
      "y_train shape: torch.Size([242, 1])\n"
     ]
    }
   ],
   "source": [
    "import pandas as pd\n",
    "import numpy as np\n",
    "import torch\n",
    "from sklearn.model_selection import train_test_split\n",
    "from sklearn.preprocessing import StandardScaler\n",
    "\n",
    "\n",
    "df_heart = pd.read_csv('heart.csv')\n",
    "\n",
    "# Codificar variables categóricas con one-hot encoding\n",
    "df_heart_clean = pd.get_dummies(df_heart, drop_first=True)\n",
    "\n",
    "# Separar variables predictoras (X) y objetivo (y)\n",
    "X = df_heart_clean.drop(columns=['target']).values.astype(np.float32)\n",
    "y = df_heart_clean['target'].values.astype(np.float32).reshape(-1, 1)\n",
    "\n",
    "#  Normalizar X (no y, porque es 0/1)\n",
    "scaler = StandardScaler()\n",
    "X_scaled = scaler.fit_transform(X)\n",
    "\n",
    "# Dividir entre entrenamiento y prueba\n",
    "X_train, X_test, y_train, y_test = train_test_split(X_scaled, y, test_size=0.2, random_state=42)\n",
    "\n",
    "#  Convertir a tensores de PyTorch\n",
    "X_train_tensor = torch.from_numpy(X_train)\n",
    "y_train_tensor = torch.from_numpy(y_train)\n",
    "X_test_tensor = torch.from_numpy(X_test)\n",
    "y_test_tensor = torch.from_numpy(y_test)\n",
    "\n",
    "\n",
    "print(f'X_train shape: {X_train_tensor.shape}')\n",
    "print(f'y_train shape: {y_train_tensor.shape}')\n",
    "s\n"
   ]
  },
  {
   "cell_type": "code",
   "execution_count": 38,
   "id": "657bfd58",
   "metadata": {},
   "outputs": [],
   "source": [
    "## modelo de clasificación \n",
    "\n",
    "import torch.nn as nn\n",
    "\n",
    "class HeartModel(nn.Module):\n",
    "    def __init__(self):\n",
    "        super(HeartModel, self).__init__()\n",
    "        self.model = nn.Sequential(\n",
    "            nn.Linear(X.shape[1], 16),\n",
    "            nn.ReLU(),\n",
    "            nn.Linear(16, 1),\n",
    "            nn.Sigmoid()\n",
    "        )\n",
    "\n",
    "    def forward(self, x):\n",
    "        return self.model(x)\n",
    "\n",
    "model_heart = HeartModel()\n"
   ]
  },
  {
   "cell_type": "code",
   "execution_count": 39,
   "id": "a3fb4304",
   "metadata": {},
   "outputs": [
    {
     "data": {
      "image/png": "[encoded data removed]",
      "text/plain": [
       "<Figure size 576x432 with 1 Axes>"
      ]
     },
     "metadata": {
      "needs_background": "light"
     },
     "output_type": "display_data"
    }
   ],
   "source": [
    "from sklearn.decomposition import PCA\n",
    "\n",
    "# Aplicamos PCA para proyectar los datos en 2 dimensiones\n",
    "pca = PCA(n_components=2)\n",
    "X_test_2d = pca.fit_transform(X_test)\n",
    "\n",
    "# Obtener predicciones\n",
    "with torch.no_grad():\n",
    "    y_pred_probs = model_heart(X_test_tensor)\n",
    "    y_pred_labels = (y_pred_probs >= 0.5).float().numpy().flatten()\n",
    "\n",
    "# Colores para clases predichas\n",
    "colors = ['red' if pred == 1 else 'blue' for pred in y_pred_labels]\n",
    "\n",
    "# Graficamos los datos proyectados en 2D según la clase predicha\n",
    "plt.figure(figsize=(8, 6))\n",
    "plt.scatter(X_test_2d[:, 0], X_test_2d[:, 1], c=colors, alpha=0.6, label='Predicciones')\n",
    "\n",
    "# Añadimos los verdaderos positivos (verde) y negativos (gris) como fondo\n",
    "y_test_np = y_test_tensor.numpy().flatten()\n",
    "for i in range(len(y_test_np)):\n",
    "    marker = 'o' if y_test_np[i] == 1 else 'x'\n",
    "    plt.scatter(X_test_2d[i, 0], X_test_2d[i, 1], marker=marker, color='black', alpha=0.15)\n",
    "\n",
    "plt.title('Proyección PCA de los datos de prueba\\ncon etiquetas predichas por el modelo base')\n",
    "plt.xlabel('PCA 1')\n",
    "plt.ylabel('PCA 2')\n",
    "plt.grid(True)\n",
    "plt.show()\n"
   ]
  },
  {
   "cell_type": "markdown",
   "id": "16cddcca",
   "metadata": {},
   "source": [
    "### 2. Entrenamiento del modelo"
   ]
  },
  {
   "cell_type": "code",
   "execution_count": 40,
   "id": "15feb5f0",
   "metadata": {},
   "outputs": [
    {
     "name": "stdout",
     "output_type": "stream",
     "text": [
      "Epoch 10, Loss: 0.4303\n",
      "Epoch 20, Loss: 0.3116\n",
      "Epoch 30, Loss: 0.2697\n",
      "Epoch 40, Loss: 0.2471\n",
      "Epoch 50, Loss: 0.2283\n",
      "Epoch 60, Loss: 0.2107\n",
      "Epoch 70, Loss: 0.1938\n",
      "Epoch 80, Loss: 0.1777\n",
      "Epoch 90, Loss: 0.1610\n",
      "Epoch 100, Loss: 0.1442\n"
     ]
    }
   ],
   "source": [
    "import torch.optim as optim\n",
    "\n",
    "criterion = nn.BCELoss()  # Para clasificación binaria\n",
    "optimizer = optim.Adam(model_heart.parameters(), lr=0.01)\n",
    "\n",
    "epochs = 100\n",
    "loss_history = []\n",
    "\n",
    "for epoch in range(epochs):\n",
    "    model_heart.train()\n",
    "    optimizer.zero_grad()\n",
    "    outputs = model_heart(X_train_tensor)\n",
    "    loss = criterion(outputs, y_train_tensor)\n",
    "    loss.backward()\n",
    "    optimizer.step()\n",
    "    loss_history.append(loss.item())\n",
    "\n",
    "    if (epoch+1) % 10 == 0:\n",
    "        print(f'Epoch {epoch+1}, Loss: {loss.item():.4f}')\n"
   ]
  },
  {
   "cell_type": "code",
   "execution_count": 41,
   "id": "200ff84d",
   "metadata": {},
   "outputs": [
    {
     "data": {
      "image/png": "[encoded data removed]",
      "text/plain": [
       "<Figure size 432x288 with 1 Axes>"
      ]
     },
     "metadata": {
      "needs_background": "light"
     },
     "output_type": "display_data"
    }
   ],
   "source": [
    "import matplotlib.pyplot as plt\n",
    "\n",
    "plt.plot(loss_history)\n",
    "plt.xlabel('Epoch')\n",
    "plt.ylabel('Binary Cross-Entropy Loss')\n",
    "plt.title('Historial de pérdida - Modelo base')\n",
    "plt.show()\n"
   ]
  },
  {
   "cell_type": "code",
   "execution_count": 42,
   "id": "02f1c048",
   "metadata": {},
   "outputs": [
    {
     "name": "stdout",
     "output_type": "stream",
     "text": [
      "Accuracy: 0.7868852459016393\n",
      "Confusion Matrix:\n",
      " [[37  7]\n",
      " [ 6 11]]\n",
      "Classification Report:\n",
      "               precision    recall  f1-score   support\n",
      "\n",
      "         0.0       0.86      0.84      0.85        44\n",
      "         1.0       0.61      0.65      0.63        17\n",
      "\n",
      "    accuracy                           0.79        61\n",
      "   macro avg       0.74      0.74      0.74        61\n",
      "weighted avg       0.79      0.79      0.79        61\n",
      "\n"
     ]
    }
   ],
   "source": [
    "from sklearn.metrics import accuracy_score, confusion_matrix, classification_report\n",
    "\n",
    "model_heart.eval()\n",
    "with torch.no_grad():\n",
    "    y_pred = model_heart(X_test_tensor)\n",
    "    y_pred_label = (y_pred >= 0.5).float()\n",
    "\n",
    "# Convertir a numpy para métricas\n",
    "y_test_np = y_test_tensor.numpy()\n",
    "y_pred_np = y_pred_label.numpy()\n",
    "\n",
    "print(\"Accuracy:\", accuracy_score(y_test_np, y_pred_np))\n",
    "print(\"Confusion Matrix:\\n\", confusion_matrix(y_test_np, y_pred_np))\n",
    "print(\"Classification Report:\\n\", classification_report(y_test_np, y_pred_np))\n"
   ]
  },
  {
   "cell_type": "markdown",
   "id": "19b979d9",
   "metadata": {},
   "source": [
    "El modelo base alcanzó una exactitud del 78.7%, con buen desempeño en la clase 0 (sin enfermedad), pero menor capacidad para detectar la clase 1 (con enfermedad), con una precisión del 61% y recall del 65%. Esto indica que el modelo identifica bien a los pacientes sanos, pero falla en algunos casos de enfermedad. Se requiere ajustar la arquitectura para mejorar la detección de positivos, clave en aplicaciones médicas."
   ]
  },
  {
   "cell_type": "markdown",
   "id": "5a91eddf",
   "metadata": {},
   "source": [
    "### 3. Cambio en el número de neuronas (2 versiones)"
   ]
  },
  {
   "cell_type": "code",
   "execution_count": 43,
   "id": "d4c07f24",
   "metadata": {},
   "outputs": [],
   "source": [
    "## Modelo utilizando más neuronas\n",
    "# Modelo con más neuronas\n",
    "class MoreNeurons(nn.Module):\n",
    "    def __init__(self):\n",
    "        super(MoreNeurons, self).__init__()\n",
    "        self.model = nn.Sequential(\n",
    "            nn.Linear(X.shape[1], 64),  # más neuronas\n",
    "            nn.ReLU(),\n",
    "            nn.Linear(64, 1),\n",
    "            nn.Sigmoid()\n",
    "        )\n"
   ]
  },
  {
   "cell_type": "code",
   "execution_count": 44,
   "id": "a79cb4a3",
   "metadata": {},
   "outputs": [],
   "source": [
    "## modelo utilizando menos neuronas\n",
    "# Modelo con menos neuronas\n",
    "class FewerNeurons(nn.Module):\n",
    "    def __init__(self):\n",
    "        super(FewerNeurons, self).__init__()\n",
    "        self.model = nn.Sequential(\n",
    "            nn.Linear(X.shape[1], 4),  # menos neuronas\n",
    "            nn.ReLU(),\n",
    "            nn.Linear(4, 1),\n",
    "            nn.Sigmoid()\n",
    "        )\n"
   ]
  },
  {
   "cell_type": "markdown",
   "id": "7ae24f8f",
   "metadata": {},
   "source": [
    "### 4. Cambiar el número de capas"
   ]
  },
  {
   "cell_type": "code",
   "execution_count": 45,
   "id": "275b2696",
   "metadata": {},
   "outputs": [],
   "source": [
    "# Modelo más profundo\n",
    "class DeeperModel(nn.Module):\n",
    "    def __init__(self):\n",
    "        super(DeeperModel, self).__init__()\n",
    "        self.model = nn.Sequential(\n",
    "            nn.Linear(X.shape[1], 32),\n",
    "            nn.ReLU(),\n",
    "            nn.Linear(32, 16),\n",
    "            nn.ReLU(),\n",
    "            nn.Linear(16, 1),\n",
    "            nn.Sigmoid()\n",
    "        )\n"
   ]
  },
  {
   "cell_type": "markdown",
   "id": "0a0291c6",
   "metadata": {},
   "source": [
    "### 5. Cambiando la función de activación"
   ]
  },
  {
   "cell_type": "code",
   "execution_count": 46,
   "id": "e586fda5",
   "metadata": {},
   "outputs": [],
   "source": [
    "# Usando Tanh\n",
    "class TanhModel(nn.Module):\n",
    "    def __init__(self):\n",
    "        super(TanhModel, self).__init__()\n",
    "        self.model = nn.Sequential(\n",
    "            nn.Linear(X.shape[1], 16),\n",
    "            nn.Tanh(),\n",
    "            nn.Linear(16, 1),\n",
    "            nn.Sigmoid()\n",
    "        )\n"
   ]
  },
  {
   "cell_type": "code",
   "execution_count": 47,
   "id": "2f316cd9",
   "metadata": {},
   "outputs": [],
   "source": [
    "# Usando LeakyReLU\n",
    "class LeakyModel(nn.Module):\n",
    "    def __init__(self):\n",
    "        super(LeakyModel, self).__init__()\n",
    "        self.model = nn.Sequential(\n",
    "            nn.Linear(X.shape[1], 16),\n",
    "            nn.LeakyReLU(0.01),\n",
    "            nn.Linear(16, 1),\n",
    "            nn.Sigmoid()\n",
    "        )\n",
    "\n",
    "        "
   ]
  },
  {
   "cell_type": "code",
   "execution_count": null,
   "id": "b950b40e",
   "metadata": {},
   "outputs": [],
   "source": []
  },
  {
   "cell_type": "code",
   "execution_count": null,
   "id": "6ef8ef21",
   "metadata": {},
   "outputs": [],
   "source": []
  }
 ],
 "metadata": {
  "kernelspec": {
   "display_name": "Python 3 (ipykernel)",
   "language": "python",
   "name": "python3"
  },
  "language_info": {
   "codemirror_mode": {
    "name": "ipython",
    "version": 3
   },
   "file_extension": ".py",
   "mimetype": "text/x-python",
   "name": "python",
   "nbconvert_exporter": "python",
   "pygments_lexer": "ipython3",
   "version": "3.9.12"
  }
 },
 "nbformat": 4,
 "nbformat_minor": 5
}
